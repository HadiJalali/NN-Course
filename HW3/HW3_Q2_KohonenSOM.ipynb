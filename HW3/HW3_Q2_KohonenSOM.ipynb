{
  "nbformat": 4,
  "nbformat_minor": 0,
  "metadata": {
    "colab": {
      "name": "HW3-Q2-KohonenSOM.ipynb",
      "provenance": [],
      "collapsed_sections": []
    },
    "kernelspec": {
      "name": "python3",
      "display_name": "Python 3"
    },
    "language_info": {
      "name": "python"
    }
  },
  "cells": [
    {
      "cell_type": "code",
      "metadata": {
        "id": "CfVKORxhb4zt"
      },
      "source": [
        "import random\n",
        "import numpy as np\n",
        "%matplotlib inline\n",
        "import matplotlib.pyplot as plt"
      ],
      "execution_count": 116,
      "outputs": []
    },
    {
      "cell_type": "code",
      "metadata": {
        "id": "TpB-hXQzg3ZC"
      },
      "source": [
        "def print_chars(flat_array, num_of_row=7):\n",
        "  for i in range(0, len(flat_array), num_of_row):\n",
        "    print(flat_array[i : i + num_of_row])"
      ],
      "execution_count": 4,
      "outputs": []
    },
    {
      "cell_type": "code",
      "metadata": {
        "id": "suBZhkKwe62m"
      },
      "source": [
        "def generate_Es():\n",
        "  E1 = np.zeros(9*7)\n",
        "  E1[::7] = E1[56:] = E1[:7] = E1[28:33] = 1\n",
        "\n",
        "  E2 = np.zeros(9*7)\n",
        "  E2[:7] = E2[56:] = E2[29:32] = E2[24] = E2[38] = E2[1::7] =  1\n",
        "\n",
        "  E3 = np.zeros(9*7)\n",
        "  E3[:7] = E3[56:] = E3[29:33] = E3[25] = E3[39] = E3[1::7] =  1\n",
        "  \n",
        "  return np.asarray([E1, E2, E3])"
      ],
      "execution_count": 142,
      "outputs": []
    },
    {
      "cell_type": "code",
      "metadata": {
        "id": "qNQ4FG2Km26Y"
      },
      "source": [
        "def generate_Ks():\n",
        "  K1 = np.zeros(9*7)\n",
        "  K1[::7] = K1[5] = K1[11] = K1[17] = K1[23] = K1[29] = K1[37] = K1[45] = K1[53] = K1[61] = 1\n",
        "\n",
        "  K2 = np.zeros(9*7)\n",
        "  K2[1::7] = K2[0] = K2[2] = K2[5] = K2[6] = K2[11] = K2[17] = K2[23] = K2[30] = K2[38] = K2[46] = K2[54] = K2[61] = K2[62] = K2[56] = K2[58] = 1\n",
        "\n",
        "  K3 = np.zeros(9*7)\n",
        "  K3[1::7] = K3[0] = K3[2] = K3[5] = K3[6] = K3[12] = K3[18] = K3[24] = K3[30] = K3[38] = K3[46] = K3[54] = K3[61] = K3[62] = K3[56] = K3[58] = 1\n",
        "\n",
        "  return np.asarray([K1, K2, K3])"
      ],
      "execution_count": 141,
      "outputs": []
    },
    {
      "cell_type": "code",
      "metadata": {
        "id": "KqhCaqOHlIlN"
      },
      "source": [
        "def generate_As():\n",
        "  A1 = np.zeros(9*7)\n",
        "  A1[3] = A1[10] = A1[17] = A1[23] = A1[25] = A1[30] = A1[32] = A1[36:41] = A1[43] = A1[47] = A1[50] = A1[54] = A1[56:59] = A1[60:] = 1\n",
        "\n",
        "  A2 = np.zeros(9*7)\n",
        "  A2[3] = A2[10] = A2[16] = A2[18] = A2[23] = A2[25] = A2[29] = A2[33] = A2[36:41] = A2[42] = A2[48] = A2[49] = A2[55] = A2[56] = A2[62] = 1\n",
        "\n",
        "  A3 = np.zeros(9*7)\n",
        "  A3[3] = A3[10] = A3[17] = A3[23] = A3[25] = A3[30] = A3[32] = A3[36] = A3[40] = A3[43:48] = A3[50] = A3[54] = A3[57] = A3[61] = 1\n",
        "  \n",
        "  return np.asarray([A1, A2, A3])"
      ],
      "execution_count": 140,
      "outputs": []
    },
    {
      "cell_type": "code",
      "metadata": {
        "id": "dyUMmaii7Dsk"
      },
      "source": [
        "def generate_Bs():\n",
        "  B1 = np.zeros(9*7)\n",
        "  B1[1::7] = B1[:6] = B1[56:62] = B1[29:34] = B1[13:28:7] = B1[41:56:7] = 1\n",
        "\n",
        "  B2 = np.zeros(9*7)\n",
        "  B2[::7] = B2[:6] = B2[56:62] = B2[29:34] = B2[13:28:7] = B2[41:56:7] = 1\n",
        "\n",
        "  B3 = np.zeros(9*7)\n",
        "  B3[1::7] = B3[:6] = B3[56:62] = B3[22:27] = B3[13:21:7] = B3[34:56:7] = 1\n",
        "\n",
        "  return np.asarray([B1, B2, B3])"
      ],
      "execution_count": 139,
      "outputs": []
    },
    {
      "cell_type": "code",
      "metadata": {
        "id": "-z7rf1-F-lXq"
      },
      "source": [
        "def generate_Js():\n",
        "  J1 = np.zeros(9*7)\n",
        "  J1[5:55:7] = J1[3:7] = J1[58:61] = J1[43:51:7] = 1\n",
        "\n",
        "  J2 = np.zeros(9*7)\n",
        "  J2[5:55:7] = J2[58:61] = J2[43:51:7] = 1\n",
        "\n",
        "  J3 = np.zeros(9*7)\n",
        "  J3[5:55:7] = J3[4:7] = J3[58:61] = J3[50] = 1\n",
        "\n",
        "  return np.asarray([J1, J2, J3])"
      ],
      "execution_count": 138,
      "outputs": []
    },
    {
      "cell_type": "code",
      "metadata": {
        "id": "KERX3bpiDc5N"
      },
      "source": [
        "def generate_Cs():\n",
        "  C1 = np.zeros(9*7)\n",
        "  C1[2:7] = C1[14:43:7] = C1[8] = C1[13] = C1[50] = C1[55] = C1[58:] = 1\n",
        "\n",
        "  C2 = np.zeros(9*7)\n",
        "  C2[2:5] = C2[14:43:7] = C2[8] = C2[12] = C2[20] = C2[50] = C2[48] = C2[54] = C2[58:61] = 1\n",
        "\n",
        "  C3 = np.zeros(9*7)\n",
        "  C3[2:5] = C3[14:43:7] = C3[8] = C3[12] = C3[6:21:7] = C3[50] = C3[48] = C3[54] = C3[58:61] = 1\n",
        "\n",
        "  return np.asarray([C1, C2, C3])"
      ],
      "execution_count": 137,
      "outputs": []
    },
    {
      "cell_type": "code",
      "metadata": {
        "id": "Tjr7Mq8Ac7G7"
      },
      "source": [
        "data_set = {}\n",
        "data_set[\"E\"] = generate_Es()\n",
        "data_set[\"A\"] = generate_As()\n",
        "data_set[\"K\"] = generate_Ks()\n",
        "data_set[\"B\"] = generate_Bs()\n",
        "data_set[\"J\"] = generate_Js()\n",
        "data_set[\"C\"] = generate_Cs()"
      ],
      "execution_count": 143,
      "outputs": []
    },
    {
      "cell_type": "code",
      "metadata": {
        "id": "dpO3GS0B12ka"
      },
      "source": [
        "def find_min_nouron(W, training_data):\n",
        "  d = np.sqrt(np.square(W - training_data).sum(axis=2))\n",
        "  # https://numpy.org/doc/stable/reference/generated/numpy.argmin.html\n",
        "  return np.unravel_index(np.argmin(d, axis=None), d.shape)\n"
      ],
      "execution_count": 237,
      "outputs": []
    },
    {
      "cell_type": "code",
      "metadata": {
        "id": "lg-YBZArBklo"
      },
      "source": [
        "def update_weights(W, sample, lr, radius, winer_idx, neighbor_distance):\n",
        "  #we update the winer nouron only if radius is very small \n",
        "  x, y = winer_idx\n",
        "  if radius < 1e-3:\n",
        "    W[x,y] += lr * (sample - W[x,y])\n",
        "    return W\n",
        "  for i in range(max(0, x-neighbor_distance), min(W.shape[0], x+neighbor_distance)):\n",
        "    for j in range(max(0, y-neighbor_distance), min(W.shape[1], y+neighbor_distance)):\n",
        "      dist_sq = np.square(i - x) + np.square(j - y)\n",
        "      dist_func = np.exp(-dist_sq / 2 * np.square(radius))\n",
        "      W[i,j,:] += lr * dist_func * (sample - W[i,j,:])\n",
        "  return W\n"
      ],
      "execution_count": 288,
      "outputs": []
    },
    {
      "cell_type": "code",
      "metadata": {
        "colab": {
          "base_uri": "https://localhost:8080/",
          "height": 242
        },
        "id": "gB1MIOGVJNsM",
        "outputId": "591f3810-b7a8-4a2b-b309-2f0c19d8464e"
      },
      "source": [
        "# Dimensions kohonen map since we have 6 class to be classified\n",
        "m = 2\n",
        "n = 3\n",
        "\n",
        "# hyper parameters\n",
        "epochs = 2000\n",
        "lr = 0.3\n",
        "lr_decay = 0.01\n",
        "radius = 2\n",
        "radius_decay = 0.1\n",
        "neighbor_distance = 2\n",
        "\n",
        "# Initialize the wieghts randomly\n",
        "W = np.random.uniform(0, 10, (m , n, 9*7)).astype(float)\n",
        "\n",
        "training_data = np.asarray([x for x in data_set.values()]).reshape(18, 63)\n",
        "_lr = lr\n",
        "_radius = radius\n",
        "for i in np.arange(0, epochs):\n",
        "  np.random.shuffle(training_data)\n",
        "  for t_data in training_data:\n",
        "    min_nouron_idx = find_min_nouron(W, t_data.reshape(1, 63))\n",
        "    W = update_weights(W, t_data, lr, radius, min_nouron_idx, neighbor_distance)\n",
        "  lr = _lr * np.exp(-i * lr_decay)\n",
        "  radius = _radius * np.exp(-i * radius_decay)\n",
        "\n",
        "fig, ax = plt.subplots(nrows=m, ncols=n, figsize=(5, 3.5),subplot_kw=dict(xticks=[], yticks=[]))\n",
        "\n",
        "ax[0][0].imshow(W[0,0].reshape(9,7))\n",
        "ax[0][1].imshow(W[0,1].reshape(9,7))\n",
        "ax[0][2].imshow(W[0,2].reshape(9,7))\n",
        "ax[1][0].imshow(W[1,0].reshape(9,7))\n",
        "ax[1][1].imshow(W[1,1].reshape(9,7))\n",
        "ax[1][2].imshow(W[1,2].reshape(9,7))"
      ],
      "execution_count": 306,
      "outputs": [
        {
          "output_type": "execute_result",
          "data": {
            "text/plain": [
              "<matplotlib.image.AxesImage at 0x7f11f2a53850>"
            ]
          },
          "metadata": {},
          "execution_count": 306
        },
        {
          "output_type": "display_data",
          "data": {
            "image/png": "[encoded data removed]",
            "text/plain": [
              "<Figure size 360x252 with 6 Axes>"
            ]
          },
          "metadata": {}
        }
      ]
    },
    {
      "cell_type": "code",
      "metadata": {
        "colab": {
          "base_uri": "https://localhost:8080/"
        },
        "id": "LqLhYBB5lFxi",
        "outputId": "cf40cb26-aa3d-4b45-c547-5352d638d527"
      },
      "source": [
        "D1 = np.zeros(9*7)\n",
        "D1[::7] = D1[12] = D1[1:5] = D1[20:49:7] = D1[57:61] = D1[54] = 1\n",
        "\n",
        "D2 = np.zeros(9*7)\n",
        "D2[1::7] = D2[12] = D2[0:5] = D2[20:49:7] = D2[56:61] = D2[54] = 1\n",
        "\n",
        "d1_detection = find_min_nouron(W, D1.reshape(1, 63))\n",
        "\n",
        "d2_detection = find_min_nouron(W, D2.reshape(1, 63))\n",
        "\n",
        "print(d1_detection)\n",
        "\n",
        "print(d2_detection)"
      ],
      "execution_count": 314,
      "outputs": [
        {
          "output_type": "stream",
          "name": "stdout",
          "text": [
            "(0, 0)\n",
            "(0, 1)\n"
          ]
        }
      ]
    }
  ]
}