{
  "nbformat": 4,
  "nbformat_minor": 0,
  "metadata": {
    "colab": {
      "name": "NN_HW1.ipynb",
      "provenance": [],
      "collapsed_sections": []
    },
    "kernelspec": {
      "name": "python3",
      "display_name": "Python 3"
    },
    "language_info": {
      "name": "python"
    }
  },
  "cells": [
    {
      "cell_type": "markdown",
      "metadata": {
        "id": "yvv-XLiPwfLW"
      },
      "source": [
        "## HW1: Train a perceptron model\n",
        "\n",
        "In this homework, you will train a perceptron model with a simple dataset.\n",
        "\n",
        "**Notes:** \n",
        "- When you submit your assignment, the output of every cell should be visible.\n",
        "- You are not eligible to change any parts of the code except the predefined sections.\n",
        "- You can add your implementation only in the predefined sections.\n",
        "\n"
      ]
    },
    {
      "cell_type": "code",
      "metadata": {
        "id": "PoXhybs4xWPq"
      },
      "source": [
        "#@title Student Information\n",
        "#@markdown Enter the following info and run the cell:\n",
        "Name = \"Abdollhadi Razi Jalali\" #@param {type:\"string\"}\n",
        "StudentNumber =  99725504#@param {type:\"integer\"}"
      ],
      "execution_count": null,
      "outputs": []
    },
    {
      "cell_type": "code",
      "metadata": {
        "id": "JDV5rqoGv9Dd"
      },
      "source": [
        "import numpy as np\n",
        "import matplotlib.pyplot as plt\n",
        "import pandas as pd"
      ],
      "execution_count": null,
      "outputs": []
    },
    {
      "cell_type": "code",
      "metadata": {
        "colab": {
          "base_uri": "https://localhost:8080/"
        },
        "id": "yN_PR1xTCVSJ",
        "outputId": "a0c65d5d-8591-44b3-812f-916ab5f4cd6b"
      },
      "source": [
        "from google.colab import drive\n",
        "drive.mount('/content/drive')"
      ],
      "execution_count": null,
      "outputs": [
        {
          "output_type": "stream",
          "name": "stdout",
          "text": [
            "Mounted at /content/drive\n"
          ]
        }
      ]
    },
    {
      "cell_type": "markdown",
      "metadata": {
        "id": "gw3I0lkI_PmX"
      },
      "source": [
        "## Load Dataset"
      ]
    },
    {
      "cell_type": "code",
      "metadata": {
        "id": "pN3Ybb3-xqPt"
      },
      "source": [
        "################################\n",
        "## Change directory to the folder of the dataset\n",
        "## For example, if the dataset is in NN/HW1 of your google drive, you should use this code in colab:\n",
        "## cd drive/MyDrive/NN/HW1\n",
        "################################"
      ],
      "execution_count": null,
      "outputs": []
    },
    {
      "cell_type": "code",
      "metadata": {
        "id": "TLEVrHrazk29",
        "colab": {
          "base_uri": "https://localhost:8080/"
        },
        "outputId": "aa383361-02c7-4c9c-fd05-f057e9a11eb7"
      },
      "source": [
        "cd /content/drive/MyDrive/Master/ANN/HW-01"
      ],
      "execution_count": null,
      "outputs": [
        {
          "output_type": "stream",
          "name": "stdout",
          "text": [
            "/content/drive/MyDrive/Master/ANN/HW-01\n"
          ]
        }
      ]
    },
    {
      "cell_type": "code",
      "metadata": {
        "id": "WswXS9TPzW89",
        "colab": {
          "base_uri": "https://localhost:8080/",
          "height": 35
        },
        "outputId": "8cae0167-8036-407d-a62e-08cf9101dd49"
      },
      "source": [
        "pwd"
      ],
      "execution_count": null,
      "outputs": [
        {
          "output_type": "execute_result",
          "data": {
            "application/vnd.google.colaboratory.intrinsic+json": {
              "type": "string"
            },
            "text/plain": [
              "'/content/drive/MyDrive/Master/ANN/HW-01'"
            ]
          },
          "metadata": {},
          "execution_count": 5
        }
      ]
    },
    {
      "cell_type": "code",
      "metadata": {
        "id": "ckmhddZ4zOSd"
      },
      "source": [
        "## Load the dataset\n",
        "dataset = pd.read_csv(\"dataset.csv\")"
      ],
      "execution_count": null,
      "outputs": []
    },
    {
      "cell_type": "code",
      "metadata": {
        "id": "Zfg93qtIzzQT",
        "colab": {
          "base_uri": "https://localhost:8080/"
        },
        "outputId": "85d2b06e-1d2f-4806-9177-68cdc297ab2d"
      },
      "source": [
        "## Dataset info\n",
        "dataset.info()"
      ],
      "execution_count": null,
      "outputs": [
        {
          "output_type": "stream",
          "name": "stdout",
          "text": [
            "<class 'pandas.core.frame.DataFrame'>\n",
            "RangeIndex: 500 entries, 0 to 499\n",
            "Data columns (total 3 columns):\n",
            " #   Column  Non-Null Count  Dtype  \n",
            "---  ------  --------------  -----  \n",
            " 0   x1      500 non-null    float64\n",
            " 1   x2      500 non-null    float64\n",
            " 2   y       500 non-null    int64  \n",
            "dtypes: float64(2), int64(1)\n",
            "memory usage: 11.8 KB\n"
          ]
        }
      ]
    },
    {
      "cell_type": "code",
      "metadata": {
        "id": "jixj9QV7z4AH",
        "colab": {
          "base_uri": "https://localhost:8080/",
          "height": 204
        },
        "outputId": "cac889e6-300d-4cd4-8729-65ad1afe8dc1"
      },
      "source": [
        "## See the five first rows of the dataset.\n",
        "dataset.head()"
      ],
      "execution_count": null,
      "outputs": [
        {
          "output_type": "execute_result",
          "data": {
            "text/html": [
              "<div>\n",
              "<style scoped>\n",
              "    .dataframe tbody tr th:only-of-type {\n",
              "        vertical-align: middle;\n",
              "    }\n",
              "\n",
              "    .dataframe tbody tr th {\n",
              "        vertical-align: top;\n",
              "    }\n",
              "\n",
              "    .dataframe thead th {\n",
              "        text-align: right;\n",
              "    }\n",
              "</style>\n",
              "<table border=\"1\" class=\"dataframe\">\n",
              "  <thead>\n",
              "    <tr style=\"text-align: right;\">\n",
              "      <th></th>\n",
              "      <th>x1</th>\n",
              "      <th>x2</th>\n",
              "      <th>y</th>\n",
              "    </tr>\n",
              "  </thead>\n",
              "  <tbody>\n",
              "    <tr>\n",
              "      <th>0</th>\n",
              "      <td>2.780914</td>\n",
              "      <td>3.649500</td>\n",
              "      <td>0</td>\n",
              "    </tr>\n",
              "    <tr>\n",
              "      <th>1</th>\n",
              "      <td>0.649471</td>\n",
              "      <td>4.428423</td>\n",
              "      <td>0</td>\n",
              "    </tr>\n",
              "    <tr>\n",
              "      <th>2</th>\n",
              "      <td>-3.393311</td>\n",
              "      <td>-1.439415</td>\n",
              "      <td>1</td>\n",
              "    </tr>\n",
              "    <tr>\n",
              "      <th>3</th>\n",
              "      <td>3.007704</td>\n",
              "      <td>2.896864</td>\n",
              "      <td>0</td>\n",
              "    </tr>\n",
              "    <tr>\n",
              "      <th>4</th>\n",
              "      <td>-3.745867</td>\n",
              "      <td>1.894699</td>\n",
              "      <td>1</td>\n",
              "    </tr>\n",
              "  </tbody>\n",
              "</table>\n",
              "</div>"
            ],
            "text/plain": [
              "         x1        x2  y\n",
              "0  2.780914  3.649500  0\n",
              "1  0.649471  4.428423  0\n",
              "2 -3.393311 -1.439415  1\n",
              "3  3.007704  2.896864  0\n",
              "4 -3.745867  1.894699  1"
            ]
          },
          "metadata": {},
          "execution_count": 8
        }
      ]
    },
    {
      "cell_type": "code",
      "metadata": {
        "id": "3X_fHonUz-pY",
        "colab": {
          "base_uri": "https://localhost:8080/",
          "height": 530
        },
        "outputId": "32a0dee8-59cd-4c94-bcd8-ca2aec5faa64"
      },
      "source": [
        "## Plot the dataset\n",
        "X = dataset.drop([\"y\"], axis=1).values\n",
        "y = dataset[\"y\"].values\n",
        "\n",
        "fig = plt.figure(figsize=(10,8))\n",
        "plt.plot(X[:, 0][y == 0], X[:, 1][y == 0], 'r^')\n",
        "plt.plot(X[:, 0][y == 1], X[:, 1][y == 1], 'bs')\n",
        "plt.xlabel(\"feature 1\")\n",
        "plt.ylabel(\"feature 2\")\n",
        "plt.title('Random Classification Data with 2 classes')"
      ],
      "execution_count": null,
      "outputs": [
        {
          "output_type": "execute_result",
          "data": {
            "text/plain": [
              "Text(0.5, 1.0, 'Random Classification Data with 2 classes')"
            ]
          },
          "metadata": {},
          "execution_count": 9
        },
        {
          "output_type": "display_data",
          "data": {
            "image/png": "[encoded data removed]",
            "text/plain": [
              "<Figure size 720x576 with 1 Axes>"
            ]
          },
          "metadata": {
            "needs_background": "light"
          }
        }
      ]
    },
    {
      "cell_type": "code",
      "metadata": {
        "id": "_nT9562pv7-m"
      },
      "source": [
        ""
      ],
      "execution_count": null,
      "outputs": []
    },
    {
      "cell_type": "markdown",
      "metadata": {
        "id": "d5JYkwuO492n"
      },
      "source": [
        "## Implement the algorithm\n",
        "\n",
        "You have two weights and one bias. Let's call them w1 and w2 and b. Your have to code a simple gradient descent algorithm for updating these parameters. "
      ]
    },
    {
      "cell_type": "code",
      "metadata": {
        "id": "bQW2mLjQ55ol"
      },
      "source": [
        "## Initialization of the parameters.\n",
        "w1 = 0\n",
        "w2 = 0\n",
        "b = 0"
      ],
      "execution_count": null,
      "outputs": []
    },
    {
      "cell_type": "code",
      "metadata": {
        "id": "XhQM42m5vW0F"
      },
      "source": [
        "def calculate_output(X, w1, w2, b):\n",
        "  ##############################################\n",
        "    ## code here\n",
        "    ## y_out is the output of your neuron.\n",
        "    ## First, you should implement this formula: y_out = w1 * x1 + w2 * x2 + b\n",
        "    ## please be careful to calculate this formula for all of the 500 data\n",
        "    ## Second, you should implement a Unit Step function as an activation function for each element of the y_out\n",
        "    ## the y_out should be an array with a length of 500.\n",
        "  ##############################################\n",
        "  y_out = w1 * X[:,0] + w2 * X[:,1] + b\n",
        "  return y_out"
      ],
      "execution_count": null,
      "outputs": []
    },
    {
      "cell_type": "code",
      "metadata": {
        "id": "aPFT9uGD6lot",
        "colab": {
          "base_uri": "https://localhost:8080/"
        },
        "outputId": "659100fc-4c09-4306-caaa-ab36db79526c"
      },
      "source": [
        "## implement the gradient descent algorithm\n",
        "lr = 0.1\n",
        "num_epochs = 20\n",
        "\n",
        "\n",
        "for i in range(num_epochs):\n",
        "  y_out = calculate_output(X, w1, w2, b)\n",
        "  errors = 0\n",
        "  for j in range(X.shape[0]):\n",
        "    if y[j] != y_out[j] :\n",
        "      errors += 1\n",
        "    ######################################\n",
        "    ## code here\n",
        "    ## implement the code for updating each parameter\n",
        "    ######################################\n",
        "    b = b + lr * (y[j] - y_out[j])\n",
        "    w1 = w1 + lr * X[j,0] * (y[j] - y_out[j])\n",
        "    w2 = w2 + lr * X[j,1] * (y[j] - y_out[j])\n",
        "\n",
        "  print(\"in epoch : \", i, \" errors : \", errors)\n",
        "\n",
        "print(\"w1 : \", w1, \"w2 : \", w2, \"b : \", b)"
      ],
      "execution_count": null,
      "outputs": [
        {
          "output_type": "stream",
          "name": "stdout",
          "text": [
            "in epoch :  0  errors :  250\n",
            "in epoch :  1  errors :  500\n",
            "in epoch :  2  errors :  500\n",
            "in epoch :  3  errors :  500\n",
            "in epoch :  4  errors :  500\n",
            "in epoch :  5  errors :  500\n",
            "in epoch :  6  errors :  500\n",
            "in epoch :  7  errors :  500\n",
            "in epoch :  8  errors :  500\n",
            "in epoch :  9  errors :  500\n",
            "in epoch :  10  errors :  500\n",
            "in epoch :  11  errors :  500\n",
            "in epoch :  12  errors :  500\n",
            "in epoch :  13  errors :  500\n",
            "in epoch :  14  errors :  500\n",
            "in epoch :  15  errors :  500\n",
            "in epoch :  16  errors :  500\n",
            "in epoch :  17  errors :  500\n",
            "in epoch :  18  errors :  500\n",
            "in epoch :  19  errors :  500\n",
            "w1 :  3.117740631562383e+54 w2 :  2.004885792990868e+54 b :  -5.76876627768641e+52\n"
          ]
        }
      ]
    },
    {
      "cell_type": "code",
      "metadata": {
        "id": "9D39OpfOM514"
      },
      "source": [
        ""
      ],
      "execution_count": null,
      "outputs": []
    },
    {
      "cell_type": "code",
      "metadata": {
        "id": "YBC2LWY2BmDX",
        "colab": {
          "base_uri": "https://localhost:8080/",
          "height": 530
        },
        "outputId": "7cdfd5d9-17f3-49ec-abc4-6a35af377e02"
      },
      "source": [
        "## Plot the result\n",
        "x1 = [min(X[:,0]), max(X[:,0])]\n",
        "m = -w1/w2\n",
        "c = -b/w2\n",
        "x2 = np.dot(m, x1) + c\n",
        "    \n",
        "fig = plt.figure(figsize=(10,8))\n",
        "plt.plot(X[:, 0][y==0], X[:, 1][y==0], \"r^\")\n",
        "plt.plot(X[:, 0][y==1], X[:, 1][y==1], \"bs\")\n",
        "plt.xlabel(\"feature 1\")\n",
        "plt.ylabel(\"feature 2\")\n",
        "plt.title('Perceptron Algorithm')\n",
        "plt.plot(x1, x2, 'y-')"
      ],
      "execution_count": null,
      "outputs": [
        {
          "output_type": "execute_result",
          "data": {
            "text/plain": [
              "[<matplotlib.lines.Line2D at 0x7fe2d3d2bdd0>]"
            ]
          },
          "metadata": {},
          "execution_count": 51
        },
        {
          "output_type": "display_data",
          "data": {
            "image/png": "[encoded data removed]",
            "text/plain": [
              "<Figure size 720x576 with 1 Axes>"
            ]
          },
          "metadata": {
            "needs_background": "light"
          }
        }
      ]
    },
    {
      "cell_type": "markdown",
      "metadata": {
        "id": "tQtAkETRNltB"
      },
      "source": [
        "## Bonus Section\n",
        "Explain learning rate decay and different methods for that.\n",
        "Also, implement one of the methods of learning decay on the implemented code."
      ]
    },
    {
      "cell_type": "markdown",
      "metadata": {
        "id": "WdZvW1UVND4v"
      },
      "source": [
        "\n"
      ]
    },
    {
      "cell_type": "code",
      "metadata": {
        "id": "YBQlY9_W_5K3"
      },
      "source": [
        ""
      ],
      "execution_count": null,
      "outputs": []
    },
    {
      "cell_type": "code",
      "metadata": {
        "id": "MiGPXUKOM2JY"
      },
      "source": [
        ""
      ],
      "execution_count": null,
      "outputs": []
    }
  ]
}