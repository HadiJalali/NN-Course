{
  "nbformat": 4,
  "nbformat_minor": 0,
  "metadata": {
    "colab": {
      "name": "NN_HW1_4_a.ipynb",
      "provenance": [],
      "collapsed_sections": [],
      "toc_visible": true
    },
    "kernelspec": {
      "name": "python3",
      "display_name": "Python 3"
    },
    "language_info": {
      "name": "python"
    }
  },
  "cells": [
    {
      "cell_type": "code",
      "metadata": {
        "id": "-KBL3qTJQRA-"
      },
      "source": [
        "#@title Student Information\n",
        "#@markdown Enter the following info and run the cell:\n",
        "Name = \"Abdollhadi Razi Jalali\" #@param {type:\"string\"}\n",
        "StudentNumber =  99725504#@param {type:\"integer\"}"
      ],
      "execution_count": null,
      "outputs": []
    },
    {
      "cell_type": "code",
      "metadata": {
        "id": "ECkMG24iQn1v"
      },
      "source": [
        "# database\n",
        "\n",
        "people = [\n",
        "           ('black', 42, 'blond', 'black', 60, 180),\n",
        "           ('black', 42, 'blond', 'black', 60, 170),\n",
        "           ('black', 43, 'brown', 'green', 90, 200),\n",
        "           ('white', 45, 'black', 'brown', 80, 170),\n",
        "           ('white', 45, 'blond', 'blue', 40, 130),\n",
        "           ('white', 41, 'black', 'black', 60, 190),\n",
        "           ('black', 40, 'black', 'brown', 80, 180),\n",
        "           ('white', 41, 'brown', 'green', 70, 200),\n",
        "           ('black', 40, 'blond', 'green', 40, 210),\n",
        "           ('black', 40, 'brown', 'blue', 70, 130)\n",
        "]\n",
        "\n",
        "# person properties index, used to improve code readability only\n",
        "skin = 0\n",
        "shoes = 1\n",
        "hair = 2\n",
        "eyes = 3\n",
        "weight = 4\n",
        "height = 5\n",
        "\n",
        "# questions, order of question is important\n",
        "questions = [(\"Is skin color is Black (Y/N)?\", \"[p for p in %s if p[%s] %s 'black']\", skin, \"==\", \"!=\"),\n",
        "             (\"Is shoes size 42 or larger (Y/N)?\", \"[p for p in %s if p[%s] %s 42]\", shoes,\">=\", \"<\"),\n",
        "             (\"Is weight 70 or more (Y/N)?\", \"[p for p in %s if p[%s] %s 70]\", weight, \">=\", \"<\"),\n",
        "             (\"Is height 180 (Y/N)?\", \"[p for p in %s if p[%s] %s 180]\", height, \"==\", \"!=\")\n",
        "             ]\n",
        "\n",
        "# questions index, used to improve code readability only\n",
        "q_text = 0\n",
        "q_filter = 1\n",
        "q_keyword = 2\n",
        "q_compare = 3\n",
        "q_negator = 4\n",
        "\n",
        "# user answers\n",
        "ans_black_skin = None\n",
        "ans_shoe_42 = None\n",
        "ans_wight_70 = None\n",
        "ans_height_180 = None"
      ],
      "execution_count": 47,
      "outputs": []
    },
    {
      "cell_type": "code",
      "metadata": {
        "colab": {
          "base_uri": "https://localhost:8080/"
        },
        "id": "tRHQovCnPbMz",
        "outputId": "50365981-79e2-4162-c7c2-5863f70a64cd"
      },
      "source": [
        "targets = people\n",
        "for q in questions:\n",
        "  if len(targets) == 1: # we narrowed down our choices to 1 person\n",
        "    #print(f'The person you are looking for is {targets[0]}')\n",
        "    print(people.index(targets[0])+1)\n",
        "    break\n",
        "  else:\n",
        "    ans = input(q[q_text])\n",
        "    if ans.lower() in ['y','yes']:\n",
        "      exec(\"targets = \" + q[q_filter] % ('targets', q[q_keyword], q[q_compare]))\n",
        "    else:\n",
        "      exec(\"targets = \" + q[q_filter] % ('targets', q[q_keyword], q[q_negator]))\n"
      ],
      "execution_count": 51,
      "outputs": [
        {
          "output_type": "stream",
          "name": "stdout",
          "text": [
            "Is skin color is Black (Y/N)?y\n",
            "Is shoes size 42 or larger (Y/N)?n\n",
            "Is weight 70 or more (Y/N)?n\n",
            "9\n"
          ]
        }
      ]
    }
  ]
}